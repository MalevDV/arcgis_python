{
 "cells": [
  {
   "cell_type": "markdown",
   "metadata": {},
   "source": [
    "# Использование ArcGIS API for Python в Jupiter Notebook"
   ]
  },
  {
   "cell_type": "markdown",
   "metadata": {},
   "source": [
    "## Введение\n",
    "Все чаще и чаще у аналитиков данных (или как еще их называют — Data Scientist) появляется потребность в визуализации данных на карте. Какой инструмент сейчас считается наиболее удобным для работы аналитика? Конечно же, тетрадки! До последнего времени возможностей по визуализации геоданных было не так много. Можно было делать статические растры в matplotlib, иногда можно было добавлять даже базовые карты. Интересной оказалась библиотека для работы с Leaflet, где можно открывать geojson-файлы. Сегодня же я хочу рассказать об ArcGIS API for Python от компании Esri."
   ]
  },
  {
   "cell_type": "markdown",
   "metadata": {},
   "source": [
    "Эта статья будет полезна как аналитикам, желающим изучить примеры работы с ГИС, так и картографам и ГИС-специалистам, которым интересно попробовать себя в написании кода."
   ]
  },
  {
   "cell_type": "markdown",
   "metadata": {},
   "source": [
    "## Что такое ArcGIS API for Python?\n",
    "Это простая в использовании и богатая по функционалу библиотека для визуализации и анализа геоданных, а также для управления корпоративной ГИС (Географический Информационной Системы), от пространственных данных до администрирования. Важной особенностью этой библиотеки является \"питоничность\" (Pythonic) с использованием стандартных конструкций, структур и идиом, что выгодно отличает ее от стандартной ArcGIS-библиотеки arcpy, которая порой вызывала ярость у разработчиков как стилем кода, так и быстродействием."
   ]
  },
  {
   "cell_type": "markdown",
   "metadata": {},
   "source": [
    "В этой статье пойдет речь о тех функциях, которые доступны без покупки лицензий ArcGIS или подписки ArcGIS Online. Для работы понадобится бесплатный аккаунт ArcGIS Online (я опущу подробности его создания - это довольно просто сделать на http://www.arcgis.com). В этом варианте присутствует ограничение на 1000 объектов в слое."
   ]
  },
  {
   "cell_type": "markdown",
   "metadata": {},
   "source": [
    "API распространяется в виде conda-пакета arcgis. Внутри пакета, который представляет собой концептуальную модель ГИС, функциональность организована в нескольких различных модулей, что делает его простым в использовании и понимании. Каждый модуль имеет несколько типов и функций, которые охватывают конкретный аспект ГИС.\n",
    "В этой статье я рассмотрю небольшую часть API в качестве вводного материала.\n",
    "* `arcgis.gis` обеспечивает базовую информационную модель как для корпоративной ГИС, так и для ArcGIS Online. Этот модуль обеспечивает функции управления (создание, чтение, обновление и удаление) пользователями, группами и контентом. Собственно, это ваша точка входа в ГИС.\n",
    "* `arcgis.widgets` - это, собственно, модуль для управления картографическими виджетами (MapView) в Jupyter notebook."
   ]
  },
  {
   "cell_type": "markdown",
   "metadata": {},
   "source": [
    "## Установка\n",
    "На данный момент библиотека распространяется только внутри Anaconda for Python 3x. Ставится все просто."
   ]
  },
  {
   "cell_type": "raw",
   "metadata": {
    "collapsed": true
   },
   "source": [
    "%%cmd\n",
    "conda install -c esri arcgis"
   ]
  },
  {
   "cell_type": "markdown",
   "metadata": {},
   "source": [
    "Надеюсь, все прошло успешно. Теперь можно начинать использование.\n",
    "Если нет желания ставить Anaconda, но библиотеку протестировать хочется, то можно попробовать песочницу от Esri: https://notebooks.esri.com."
   ]
  },
  {
   "cell_type": "markdown",
   "metadata": {},
   "source": [
    "## Использование\n",
    "Объект GIS в модуле gis - самый главный в ArcGIS API for Python, ваша входная точка. Он олицетворяет ту ГИС, с которой вы работаете, будь ArcGIS Online или корпоративный ArcGIS. Объект позволяет работать с геоконтентом или же администрировать ГИС. Начнем с инициализации объекта GIS"
   ]
  },
  {
   "cell_type": "code",
   "execution_count": 1,
   "metadata": {
    "collapsed": true
   },
   "outputs": [],
   "source": [
    "import arcgis\n",
    "from arcgis.gis import GIS"
   ]
  },
  {
   "cell_type": "markdown",
   "metadata": {},
   "source": [
    "Для работы можно использовать как базовое анонимное подключение к ArcGIS Online..."
   ]
  },
  {
   "cell_type": "code",
   "execution_count": 2,
   "metadata": {
    "collapsed": true
   },
   "outputs": [],
   "source": [
    "gis = GIS()"
   ]
  },
  {
   "cell_type": "markdown",
   "metadata": {},
   "source": [
    "...так и с логином."
   ]
  },
  {
   "cell_type": "code",
   "execution_count": null,
   "metadata": {
    "collapsed": false
   },
   "outputs": [],
   "source": [
    "my_gis = GIS(url='http://arcgis.com', username='andrey_zhukov', password='секрет')"
   ]
  },
  {
   "cell_type": "markdown",
   "metadata": {},
   "source": [
    "Для любого инструмента можно вызывать справку, например"
   ]
  },
  {
   "cell_type": "code",
   "execution_count": 4,
   "metadata": {
    "collapsed": true
   },
   "outputs": [],
   "source": [
    "gis?"
   ]
  },
  {
   "cell_type": "markdown",
   "metadata": {},
   "source": [
    "Кроме того, поддерживается и контекстный ввод"
   ]
  },
  {
   "cell_type": "markdown",
   "metadata": {},
   "source": [
    "<img src='http://esri.github.io/arcgis-python-api/notebooks/nbimages/01-dropdown.png'>"
   ]
  },
  {
   "cell_type": "markdown",
   "metadata": {},
   "source": [
    "Встроить карту - это просто!\n",
    "Давайте инициализируем объект карты hello_map с центром в Москве и с уровнем зума 15."
   ]
  },
  {
   "cell_type": "code",
   "execution_count": 5,
   "metadata": {
    "collapsed": true
   },
   "outputs": [],
   "source": [
    "hello_map = my_gis.map(\"Москва\", zoomlevel = 15)"
   ]
  },
  {
   "cell_type": "markdown",
   "metadata": {},
   "source": [
    "А теперь вызовем его..."
   ]
  },
  {
   "cell_type": "code",
   "execution_count": 6,
   "metadata": {
    "collapsed": true
   },
   "outputs": [],
   "source": [
    "hello_map"
   ]
  },
  {
   "cell_type": "markdown",
   "metadata": {},
   "source": [
    "Добро пожаловать!\n",
    "В карте работают базовые элементы - перетаскивание мышью (pan) и изменение масштаба (zoom) как колесом мыши (или соответствующим жестом на тачпаде), так и экранными кнопками.\n",
    "Последующие манипуляции с объетом hello_map отразятся во фрейме выше.\n",
    "Чем можно управлять у карты?\n",
    "Например, зумом."
   ]
  },
  {
   "cell_type": "code",
   "execution_count": 161,
   "metadata": {
    "collapsed": true
   },
   "outputs": [],
   "source": [
    "hello_map.zoom = 10"
   ]
  },
  {
   "cell_type": "markdown",
   "metadata": {},
   "source": [
    "Увеличим площадь карты."
   ]
  },
  {
   "cell_type": "code",
   "execution_count": 7,
   "metadata": {
    "collapsed": false
   },
   "outputs": [],
   "source": [
    "hello_map.height = '600px'"
   ]
  },
  {
   "cell_type": "markdown",
   "metadata": {},
   "source": [
    "Посмотрим список доступных базовых карт."
   ]
  },
  {
   "cell_type": "code",
   "execution_count": 162,
   "metadata": {
    "collapsed": false
   },
   "outputs": [
    {
     "data": {
      "text/plain": [
       "['streets',\n",
       " 'satellite',\n",
       " 'hybrid',\n",
       " 'topo',\n",
       " 'gray',\n",
       " 'dark-gray',\n",
       " 'oceans',\n",
       " 'national-geographic',\n",
       " 'terrain',\n",
       " 'osm']"
      ]
     },
     "execution_count": 162,
     "metadata": {},
     "output_type": "execute_result"
    }
   ],
   "source": [
    "hello_map.basemaps"
   ]
  },
  {
   "cell_type": "markdown",
   "metadata": {},
   "source": [
    "Можно все посмотреть? Конечно!"
   ]
  },
  {
   "cell_type": "code",
   "execution_count": 163,
   "metadata": {
    "collapsed": true
   },
   "outputs": [],
   "source": [
    "from time import sleep\n",
    "for basemap in hello_map.basemaps:\n",
    "    hello_map.basemap = basemap\n",
    "    sleep(5)"
   ]
  },
  {
   "cell_type": "markdown",
   "metadata": {},
   "source": [
    "OpenStreetMap - вполне привычно, остановимся на нем."
   ]
  },
  {
   "cell_type": "code",
   "execution_count": 15,
   "metadata": {
    "collapsed": true
   },
   "outputs": [],
   "source": [
    "hello_map.basemap = 'osm'"
   ]
  },
  {
   "cell_type": "markdown",
   "metadata": {},
   "source": [
    "Поищем адреса. Найдем адрес БЦ Омега плаза и приблизм карту к нему.\n",
    "Геокодирование по одному адресу абсолютно бесплатно, но пакетное геокодирование уже требует кредитов на счете организации."
   ]
  },
  {
   "cell_type": "code",
   "execution_count": 8,
   "metadata": {
    "collapsed": false
   },
   "outputs": [],
   "source": [
    "location = arcgis.geocoding.geocode('Москва, Ленинская слобода, 19', max_locations=1)[0]"
   ]
  },
  {
   "cell_type": "code",
   "execution_count": 9,
   "metadata": {
    "collapsed": true
   },
   "outputs": [],
   "source": [
    "hello_map.extent = location['extent']"
   ]
  },
  {
   "cell_type": "markdown",
   "metadata": {},
   "source": [
    "На карту можно добавлять контент из галереи ArcGIS Online. Поищем что-нибудь интересное..."
   ]
  },
  {
   "cell_type": "code",
   "execution_count": 11,
   "metadata": {
    "collapsed": false
   },
   "outputs": [
    {
     "data": {
      "text/html": [
       "<div class=\"item_container\" style=\"height: auto; overflow: hidden; border: 1px solid #cfcfcf; border-radius: 2px; background: #f6fafa; line-height: 1.21429em; padding: 10px;\">\n",
       "                    <div class=\"item_left\" style=\"width: 210px; float: left;\">\n",
       "                       <a href='http://www.arcgis.com/home/item.html?id=36e3a94f024347dda71e072b3b31e28b' target='_blank'>\n",
       "                        <img src='http://www.arcgis.com/sharing/rest//content/items/36e3a94f024347dda71e072b3b31e28b/info/thumbnail/ago_downloaded.png' class=\"itemThumbnail\">\n",
       "                       </a>\n",
       "                    </div>\n",
       "\n",
       "                    <div class=\"item_right\"     style=\"float: none; width: auto; overflow: hidden;\">\n",
       "                        <a href='http://www.arcgis.com/home/item.html?id=36e3a94f024347dda71e072b3b31e28b' target='_blank'><b>Moscow</b>\n",
       "                        </a>\n",
       "                        <br/>Map Notes layer for Moscow.<img src='http://www.arcgis.com/home/js/jsapi/esri/css/images/item_type_icons/features16.png' style=\"vertical-align:middle;\">Feature Collection by southside_institute\n",
       "                        <br/>Last Modified: Июнь 29, 2015\n",
       "                        <br/>0 comments, 50 views\n",
       "                    </div>\n",
       "                </div>\n",
       "                "
      ],
      "text/plain": [
       "<Item title:\"Moscow\" type:Feature Collection owner:southside_institute>"
      ]
     },
     "metadata": {},
     "output_type": "display_data"
    },
    {
     "data": {
      "text/html": [
       "<div class=\"item_container\" style=\"height: auto; overflow: hidden; border: 1px solid #cfcfcf; border-radius: 2px; background: #f6fafa; line-height: 1.21429em; padding: 10px;\">\n",
       "                    <div class=\"item_left\" style=\"width: 210px; float: left;\">\n",
       "                       <a href='http://www.arcgis.com/home/item.html?id=cf9cdc4d52fa412487fd2d85805ee7de' target='_blank'>\n",
       "                        <img src='http://www.arcgis.com/sharing/rest//content/items/cf9cdc4d52fa412487fd2d85805ee7de/info/thumbnail/ago_downloaded.png' class=\"itemThumbnail\">\n",
       "                       </a>\n",
       "                    </div>\n",
       "\n",
       "                    <div class=\"item_right\"     style=\"float: none; width: auto; overflow: hidden;\">\n",
       "                        <a href='http://www.arcgis.com/home/item.html?id=cf9cdc4d52fa412487fd2d85805ee7de' target='_blank'><b>Moscow Folklore Map</b>\n",
       "                        </a>\n",
       "                        <br/>фоьклорная карта Москвы, разработчик - Nikita Petrov<img src='http://www.arcgis.com/home/js/jsapi/esri/css/images/item_type_icons/features16.png' style=\"vertical-align:middle;\">Feature Collection by nivirov\n",
       "                        <br/>Last Modified: Май 21, 2015\n",
       "                        <br/>0 comments, 28 views\n",
       "                    </div>\n",
       "                </div>\n",
       "                "
      ],
      "text/plain": [
       "<Item title:\"Moscow Folklore Map\" type:Feature Collection owner:nivirov>"
      ]
     },
     "metadata": {},
     "output_type": "display_data"
    },
    {
     "data": {
      "text/html": [
       "<div class=\"item_container\" style=\"height: auto; overflow: hidden; border: 1px solid #cfcfcf; border-radius: 2px; background: #f6fafa; line-height: 1.21429em; padding: 10px;\">\n",
       "                    <div class=\"item_left\" style=\"width: 210px; float: left;\">\n",
       "                       <a href='http://www.arcgis.com/home/item.html?id=c848656224ff41868c493a8089293c38' target='_blank'>\n",
       "                        <img src='http://www.arcgis.com/sharing/rest//content/items/c848656224ff41868c493a8089293c38/info/thumbnail/ago_downloaded.png' class=\"itemThumbnail\">\n",
       "                       </a>\n",
       "                    </div>\n",
       "\n",
       "                    <div class=\"item_right\"     style=\"float: none; width: auto; overflow: hidden;\">\n",
       "                        <a href='http://www.arcgis.com/home/item.html?id=c848656224ff41868c493a8089293c38' target='_blank'><b>Moscow Walking Tour</b>\n",
       "                        </a>\n",
       "                        <br/>Route and directions for Moscow Walking Tour<img src='http://www.arcgis.com/home/js/jsapi/esri/css/images/item_type_icons/features16.png' style=\"vertical-align:middle;\">Feature Collection by thomaskoblet\n",
       "                        <br/>Last Modified: Август 13, 2016\n",
       "                        <br/>0 comments, 22 views\n",
       "                    </div>\n",
       "                </div>\n",
       "                "
      ],
      "text/plain": [
       "<Item title:\"Moscow Walking Tour\" type:Feature Collection owner:thomaskoblet>"
      ]
     },
     "metadata": {},
     "output_type": "display_data"
    },
    {
     "data": {
      "text/html": [
       "<div class=\"item_container\" style=\"height: auto; overflow: hidden; border: 1px solid #cfcfcf; border-radius: 2px; background: #f6fafa; line-height: 1.21429em; padding: 10px;\">\n",
       "                    <div class=\"item_left\" style=\"width: 210px; float: left;\">\n",
       "                       <a href='http://www.arcgis.com/home/item.html?id=7a314f97c70e4fb39b0583497daf93c5' target='_blank'>\n",
       "                        <img src='http://www.arcgis.com/sharing/rest//content/items/7a314f97c70e4fb39b0583497daf93c5/info/thumbnail/ago_downloaded.png' class=\"itemThumbnail\">\n",
       "                       </a>\n",
       "                    </div>\n",
       "\n",
       "                    <div class=\"item_right\"     style=\"float: none; width: auto; overflow: hidden;\">\n",
       "                        <a href='http://www.arcgis.com/home/item.html?id=7a314f97c70e4fb39b0583497daf93c5' target='_blank'><b>Moscow_route</b>\n",
       "                        </a>\n",
       "                        <br/>Route en routebeschrijving voor Москва, Смольная улица 52, RUS — Москва, 8-я Соколиной Горы улица 18, RUS<img src='http://www.arcgis.com/home/js/jsapi/esri/css/images/item_type_icons/features16.png' style=\"vertical-align:middle;\">Feature Collection by OSerebryannaya_i18n\n",
       "                        <br/>Last Modified: Октябрь 18, 2016\n",
       "                        <br/>0 comments, 2 views\n",
       "                    </div>\n",
       "                </div>\n",
       "                "
      ],
      "text/plain": [
       "<Item title:\"Moscow_route\" type:Feature Collection owner:OSerebryannaya_i18n>"
      ]
     },
     "metadata": {},
     "output_type": "display_data"
    },
    {
     "data": {
      "text/html": [
       "<div class=\"item_container\" style=\"height: auto; overflow: hidden; border: 1px solid #cfcfcf; border-radius: 2px; background: #f6fafa; line-height: 1.21429em; padding: 10px;\">\n",
       "                    <div class=\"item_left\" style=\"width: 210px; float: left;\">\n",
       "                       <a href='http://www.arcgis.com/home/item.html?id=7bc4b795074c4f75a9286e991b0f5e99' target='_blank'>\n",
       "                        <img src='http://www.arcgis.com/sharing/rest//content/items/7bc4b795074c4f75a9286e991b0f5e99/info/thumbnail/ago_downloaded.png' class=\"itemThumbnail\">\n",
       "                       </a>\n",
       "                    </div>\n",
       "\n",
       "                    <div class=\"item_right\"     style=\"float: none; width: auto; overflow: hidden;\">\n",
       "                        <a href='http://www.arcgis.com/home/item.html?id=7bc4b795074c4f75a9286e991b0f5e99' target='_blank'><b>Moscow_route_rechts</b>\n",
       "                        </a>\n",
       "                        <br/>Маршрут и путевой лист для Moscow_route_rechts<img src='http://www.arcgis.com/home/js/jsapi/esri/css/images/item_type_icons/features16.png' style=\"vertical-align:middle;\">Feature Collection by OSerebryannaya_i18n\n",
       "                        <br/>Last Modified: Октябрь 18, 2016\n",
       "                        <br/>0 comments, 1 views\n",
       "                    </div>\n",
       "                </div>\n",
       "                "
      ],
      "text/plain": [
       "<Item title:\"Moscow_route_rechts\" type:Feature Collection owner:OSerebryannaya_i18n>"
      ]
     },
     "metadata": {},
     "output_type": "display_data"
    }
   ],
   "source": [
    "from IPython.display import display\n",
    "items = gis.content.search('title:Moscow', item_type='Feature Collection')\n",
    "for item in items:\n",
    "    display(item)"
   ]
  },
  {
   "cell_type": "markdown",
   "metadata": {},
   "source": [
    "`Moscow Walking Tour` - отлично! Уточним элемент."
   ]
  },
  {
   "cell_type": "code",
   "execution_count": 12,
   "metadata": {
    "collapsed": false
   },
   "outputs": [
    {
     "data": {
      "text/html": [
       "<div class=\"item_container\" style=\"height: auto; overflow: hidden; border: 1px solid #cfcfcf; border-radius: 2px; background: #f6fafa; line-height: 1.21429em; padding: 10px;\">\n",
       "                    <div class=\"item_left\" style=\"width: 210px; float: left;\">\n",
       "                       <a href='http://www.arcgis.com/home/item.html?id=c848656224ff41868c493a8089293c38' target='_blank'>\n",
       "                        <img src='http://www.arcgis.com/sharing/rest//content/items/c848656224ff41868c493a8089293c38/info/thumbnail/ago_downloaded.png' class=\"itemThumbnail\">\n",
       "                       </a>\n",
       "                    </div>\n",
       "\n",
       "                    <div class=\"item_right\"     style=\"float: none; width: auto; overflow: hidden;\">\n",
       "                        <a href='http://www.arcgis.com/home/item.html?id=c848656224ff41868c493a8089293c38' target='_blank'><b>Moscow Walking Tour</b>\n",
       "                        </a>\n",
       "                        <br/>Route and directions for Moscow Walking Tour<img src='http://www.arcgis.com/home/js/jsapi/esri/css/images/item_type_icons/features16.png' style=\"vertical-align:middle;\">Feature Collection by thomaskoblet\n",
       "                        <br/>Last Modified: Август 13, 2016\n",
       "                        <br/>0 comments, 22 views\n",
       "                    </div>\n",
       "                </div>\n",
       "                "
      ],
      "text/plain": [
       "<Item title:\"Moscow Walking Tour\" type:Feature Collection owner:thomaskoblet>"
      ]
     },
     "metadata": {},
     "output_type": "display_data"
    }
   ],
   "source": [
    "my_layer = items[2]\n",
    "display(my_layer)"
   ]
  },
  {
   "cell_type": "markdown",
   "metadata": {},
   "source": [
    "Добавляем сервис и смотрим на наш hello_map"
   ]
  },
  {
   "cell_type": "code",
   "execution_count": 13,
   "metadata": {
    "collapsed": false
   },
   "outputs": [],
   "source": [
    "hello_map.add_layer(my_layer)"
   ]
  },
  {
   "cell_type": "code",
   "execution_count": 14,
   "metadata": {
    "collapsed": false
   },
   "outputs": [],
   "source": [
    "hello_map.zoom = 12"
   ]
  },
  {
   "cell_type": "markdown",
   "metadata": {},
   "source": [
    "Мы получили веб-карту, встроенную во фрейм внутри Notebook. В ней поддерживается навигация и вывод информации по клику на объектах. На сегодняшний день многие организации используют технологии ArcGIS не только на корпоративном уровне, но и для публикации открытых данных. Некоторые из этих открытых данных доступны для поиска и использования на ArcGIS Online, другие же можно найти через портал открытых данных (https://opendata.arcgis.com/) и подгрузить в ArcGIS Online."
   ]
  },
  {
   "cell_type": "markdown",
   "metadata": {},
   "source": [
    "Happy ~~hacking~~ mapping!"
   ]
  },
  {
   "cell_type": "markdown",
   "metadata": {},
   "source": [
    "## Работа с объектами\n",
    "Конечно же, каждый Data Scientist, работающий в Jupiter Notebook, привык к pandas и DataFrame. Давайте поработаем уже с полноценным набором данных, используя pandas и ArcGIS."
   ]
  },
  {
   "cell_type": "markdown",
   "metadata": {},
   "source": [
    "Для этого сначала импортируем csv в pandas, а потом преобразуем его в слой карты. \n",
    "Как пример я возьму слой паркоматов Москвы. Я уже немного поколдовал с исходным csv. Перекодировал в utf8 и переименовал столбцы, чтобы не возникло неожиданных проблем."
   ]
  },
  {
   "cell_type": "code",
   "execution_count": 16,
   "metadata": {
    "collapsed": false
   },
   "outputs": [],
   "source": [
    "import pandas as pd\n",
    "parkomats = pd.read_csv(r'.\\data\\data-417-2017-02-14.csv', sep=';')"
   ]
  },
  {
   "cell_type": "markdown",
   "metadata": {
    "collapsed": false
   },
   "source": [
    "Посмотрим получившийся объект. В нем уже есть широта и долгота, а также псевдо-geojson-поле geoData. При импорте данных ArcGIS сам пытается опознать поля геометрии или адреса. Если бы нам требовалось собрать данные по адресам, то пришлось бы собирать адрес из нескольких полей."
   ]
  },
  {
   "cell_type": "code",
   "execution_count": 17,
   "metadata": {
    "collapsed": false,
    "scrolled": true
   },
   "outputs": [
    {
     "data": {
      "text/html": [
       "<div>\n",
       "<table border=\"1\" class=\"dataframe\">\n",
       "  <thead>\n",
       "    <tr style=\"text-align: right;\">\n",
       "      <th></th>\n",
       "      <th>ID</th>\n",
       "      <th>NumberOfParkingMeter</th>\n",
       "      <th>global_id</th>\n",
       "      <th>AdmArea</th>\n",
       "      <th>District</th>\n",
       "      <th>StreetName</th>\n",
       "      <th>Location</th>\n",
       "      <th>longitude</th>\n",
       "      <th>latitude</th>\n",
       "      <th>ParkingZoneNumber</th>\n",
       "      <th>geoData</th>\n",
       "      <th>Unnamed: 11</th>\n",
       "    </tr>\n",
       "  </thead>\n",
       "  <tbody>\n",
       "    <tr>\n",
       "      <th>870</th>\n",
       "      <td>1990</td>\n",
       "      <td>Паркомат № 3287</td>\n",
       "      <td>282752273</td>\n",
       "      <td>Юго-Восточный административный округ</td>\n",
       "      <td>район Люблино</td>\n",
       "      <td>Совхозная улица</td>\n",
       "      <td>Совхозная улица, дом 45</td>\n",
       "      <td>37.761807</td>\n",
       "      <td>55.675818</td>\n",
       "      <td>4080</td>\n",
       "      <td>{type=Point, coordinates=[37.7618068305579, 55...</td>\n",
       "      <td>NaN</td>\n",
       "    </tr>\n",
       "    <tr>\n",
       "      <th>871</th>\n",
       "      <td>1991</td>\n",
       "      <td>Паркомат № 3397</td>\n",
       "      <td>282752274</td>\n",
       "      <td>Восточный административный округ</td>\n",
       "      <td>район Сокольники</td>\n",
       "      <td>5-я Сокольническая улица</td>\n",
       "      <td>5-я Сокольническая улица, дом 1</td>\n",
       "      <td>37.688124</td>\n",
       "      <td>55.785373</td>\n",
       "      <td>4025</td>\n",
       "      <td>{type=Point, coordinates=[37.6881239308419, 55...</td>\n",
       "      <td>NaN</td>\n",
       "    </tr>\n",
       "    <tr>\n",
       "      <th>872</th>\n",
       "      <td>1972</td>\n",
       "      <td>Паркомат № 2240</td>\n",
       "      <td>282752301</td>\n",
       "      <td>Западный административный округ</td>\n",
       "      <td>район Фили-Давыдково</td>\n",
       "      <td>улица Герасима Курина</td>\n",
       "      <td>улица Герасима Курина, дом 16</td>\n",
       "      <td>37.472284</td>\n",
       "      <td>55.731046</td>\n",
       "      <td>4069</td>\n",
       "      <td>{type=Point, coordinates=[37.4722838315654, 55...</td>\n",
       "      <td>NaN</td>\n",
       "    </tr>\n",
       "    <tr>\n",
       "      <th>873</th>\n",
       "      <td>1980</td>\n",
       "      <td>Паркомат № 2345</td>\n",
       "      <td>282752302</td>\n",
       "      <td>Западный административный округ</td>\n",
       "      <td>район Раменки</td>\n",
       "      <td>Университетский проспект</td>\n",
       "      <td>Университетский проспект, дом 13</td>\n",
       "      <td>37.543410</td>\n",
       "      <td>55.701725</td>\n",
       "      <td>4068</td>\n",
       "      <td>{type=Point, coordinates=[37.543409630392, 55....</td>\n",
       "      <td>NaN</td>\n",
       "    </tr>\n",
       "    <tr>\n",
       "      <th>874</th>\n",
       "      <td>1963</td>\n",
       "      <td>Паркомат № 2031</td>\n",
       "      <td>282920545</td>\n",
       "      <td>Северо-Западный административный округ</td>\n",
       "      <td>район Южное Тушино</td>\n",
       "      <td>Сходненская улица</td>\n",
       "      <td>Сходненская улица, дом 50</td>\n",
       "      <td>37.440234</td>\n",
       "      <td>55.847444</td>\n",
       "      <td>4071</td>\n",
       "      <td>{type=Point, coordinates=[37.4402341318386, 55...</td>\n",
       "      <td>NaN</td>\n",
       "    </tr>\n",
       "  </tbody>\n",
       "</table>\n",
       "</div>"
      ],
      "text/plain": [
       "       ID NumberOfParkingMeter  global_id  \\\n",
       "870  1990      Паркомат № 3287  282752273   \n",
       "871  1991      Паркомат № 3397  282752274   \n",
       "872  1972      Паркомат № 2240  282752301   \n",
       "873  1980      Паркомат № 2345  282752302   \n",
       "874  1963      Паркомат № 2031  282920545   \n",
       "\n",
       "                                    AdmArea              District  \\\n",
       "870    Юго-Восточный административный округ         район Люблино   \n",
       "871        Восточный административный округ      район Сокольники   \n",
       "872         Западный административный округ  район Фили-Давыдково   \n",
       "873         Западный административный округ         район Раменки   \n",
       "874  Северо-Западный административный округ    район Южное Тушино   \n",
       "\n",
       "                   StreetName                          Location  longitude  \\\n",
       "870           Совхозная улица           Совхозная улица, дом 45  37.761807   \n",
       "871  5-я Сокольническая улица   5-я Сокольническая улица, дом 1  37.688124   \n",
       "872     улица Герасима Курина     улица Герасима Курина, дом 16  37.472284   \n",
       "873  Университетский проспект  Университетский проспект, дом 13  37.543410   \n",
       "874         Сходненская улица         Сходненская улица, дом 50  37.440234   \n",
       "\n",
       "      latitude  ParkingZoneNumber  \\\n",
       "870  55.675818               4080   \n",
       "871  55.785373               4025   \n",
       "872  55.731046               4069   \n",
       "873  55.701725               4068   \n",
       "874  55.847444               4071   \n",
       "\n",
       "                                               geoData  Unnamed: 11  \n",
       "870  {type=Point, coordinates=[37.7618068305579, 55...          NaN  \n",
       "871  {type=Point, coordinates=[37.6881239308419, 55...          NaN  \n",
       "872  {type=Point, coordinates=[37.4722838315654, 55...          NaN  \n",
       "873  {type=Point, coordinates=[37.543409630392, 55....          NaN  \n",
       "874  {type=Point, coordinates=[37.4402341318386, 55...          NaN  "
      ]
     },
     "execution_count": 17,
     "metadata": {},
     "output_type": "execute_result"
    }
   ],
   "source": [
    "parkomats.tail()"
   ]
  },
  {
   "cell_type": "markdown",
   "metadata": {},
   "source": [
    "Теперь импортирум DataFrame из pandas в объекты gis. Для этого просто вызываем функцию import_data. В результате у нас получается объект FeatureCollection"
   ]
  },
  {
   "cell_type": "code",
   "execution_count": 19,
   "metadata": {
    "collapsed": false
   },
   "outputs": [
    {
     "data": {
      "text/plain": [
       "<FeatureCollection>"
      ]
     },
     "execution_count": 19,
     "metadata": {},
     "output_type": "execute_result"
    }
   ],
   "source": [
    "geoparkomats = my_gis.content.import_data(parkomats)\n",
    "geoparkomats"
   ]
  },
  {
   "cell_type": "markdown",
   "metadata": {},
   "source": [
    "Теперь добавим объекты на карту. Для этого инициализируем новый объект map и в него добавил наш новый слой."
   ]
  },
  {
   "cell_type": "code",
   "execution_count": 20,
   "metadata": {
    "collapsed": false
   },
   "outputs": [],
   "source": [
    "parkomat_map = my_gis.map('Москва', zoomlevel=12)\n",
    "parkomat_map.basemap = 'osm'\n",
    "parkomat_map.add_layer(geoparkomats)\n",
    "parkomat_map.height = '600px'\n",
    "parkomat_map"
   ]
  },
  {
   "cell_type": "markdown",
   "metadata": {
    "collapsed": true
   },
   "source": [
    "Уже неплохо! Но неплохо было бы эти данные оформить. Давайте попробуем их разукрасить. Для начала просто по зонам парковки"
   ]
  },
  {
   "cell_type": "code",
   "execution_count": 21,
   "metadata": {
    "collapsed": true
   },
   "outputs": [],
   "source": [
    "parkomat_cat_map = my_gis.map('Москва', zoomlevel=10)\n",
    "parkomat_cat_map.basemap = 'gray'\n",
    "parkomat_cat_map.add_layer(geoparkomats, {\"renderer\":\"ClassedColorRenderer\", \"field_name\":\"ParkingZoneNumber\"})\n",
    "parkomat_cat_map.height = '600px'\n",
    "parkomat_cat_map"
   ]
  },
  {
   "cell_type": "markdown",
   "metadata": {},
   "source": [
    "Многие любят теплокарты. Давайте попробуем сделать и ее."
   ]
  },
  {
   "cell_type": "code",
   "execution_count": 22,
   "metadata": {
    "collapsed": false
   },
   "outputs": [],
   "source": [
    "parkomat_heat_map = my_gis.map('Москва', zoomlevel=11)\n",
    "parkomat_heat_map.basemap = 'dark-gray'\n",
    "parkomat_heat_map.add_layer(geoparkomats, {\"renderer\":\"HeatmapRenderer\"})\n",
    "parkomat_heat_map.height = '600px'\n",
    "parkomat_heat_map"
   ]
  },
  {
   "cell_type": "markdown",
   "metadata": {},
   "source": [
    "Как видите, добавить и стилизовать слой - это не сложно."
   ]
  },
  {
   "cell_type": "markdown",
   "metadata": {},
   "source": [
    "Кроме того, можно расположить все карты рядом. Для этого создадим и настроим три новых фрейма и впишем их в один бокс."
   ]
  },
  {
   "cell_type": "code",
   "execution_count": 23,
   "metadata": {
    "collapsed": true
   },
   "outputs": [],
   "source": [
    "just_map = my_gis.map('Москва', zoomlevel=10)\n",
    "just_map.basemap = 'osm'\n",
    "just_map.add_layer(geoparkomats)"
   ]
  },
  {
   "cell_type": "code",
   "execution_count": 24,
   "metadata": {
    "collapsed": true
   },
   "outputs": [],
   "source": [
    "cat_map = my_gis.map('Москва', zoomlevel=10)\n",
    "cat_map.basemap = 'gray'\n",
    "cat_map.add_layer(geoparkomats, {\"renderer\":\"ClassedColorRenderer\", \"field_name\":\"ParkingZoneNumber\"})"
   ]
  },
  {
   "cell_type": "code",
   "execution_count": 25,
   "metadata": {
    "collapsed": true
   },
   "outputs": [],
   "source": [
    "heat_map = my_gis.map('Москва', zoomlevel=10)\n",
    "heat_map.basemap = 'dark-gray'\n",
    "heat_map.add_layer(geoparkomats, {\"renderer\":\"HeatmapRenderer\"})"
   ]
  },
  {
   "cell_type": "code",
   "execution_count": 26,
   "metadata": {
    "collapsed": true
   },
   "outputs": [],
   "source": [
    "from ipywidgets import *\n",
    "just_map.layout=Layout(flex='1 1', padding='5px')\n",
    "cat_map.layout=Layout(flex='1 1', padding='5px')\n",
    "heat_map.layout=Layout(flex='1 1', padding='5px')\n",
    "box = HBox([just_map, cat_map, heat_map])\n",
    "box.height = '300px'\n",
    "box"
   ]
  },
  {
   "cell_type": "markdown",
   "metadata": {},
   "source": [
    "## Заключение"
   ]
  },
  {
   "cell_type": "markdown",
   "metadata": {},
   "source": [
    "Итак, вы узнали, как легко и просто использовать в Jupyter Notebook полноценные веб-карты с помощью ArcGIS API for Python. Это новый продукт, едва вышедший из беты, но уже довольно интересный, с большими перспективами."
   ]
  },
  {
   "cell_type": "markdown",
   "metadata": {},
   "source": [
    "Материалы этой статьи выложены на GitHub (https://github.com/fall-out-bug/arcgis_python). Код библиотеки и обширные материалы Esri тоже можно найти на GitHub (https://github.com/Esri/arcgis-python-api)"
   ]
  },
  {
   "cell_type": "markdown",
   "metadata": {},
   "source": [
    "**Happy mapping!**"
   ]
  },
  {
   "cell_type": "code",
   "execution_count": null,
   "metadata": {
    "collapsed": true
   },
   "outputs": [],
   "source": []
  }
 ],
 "metadata": {
  "anaconda-cloud": {},
  "kernelspec": {
   "display_name": "Python [conda root]",
   "language": "python",
   "name": "conda-root-py"
  },
  "language_info": {
   "codemirror_mode": {
    "name": "ipython",
    "version": 3
   },
   "file_extension": ".py",
   "mimetype": "text/x-python",
   "name": "python",
   "nbconvert_exporter": "python",
   "pygments_lexer": "ipython3",
   "version": "3.5.2"
  }
 },
 "nbformat": 4,
 "nbformat_minor": 2
}
